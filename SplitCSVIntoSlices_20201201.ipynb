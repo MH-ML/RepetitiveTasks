{
 "cells": [
  {
   "cell_type": "code",
   "execution_count": 44,
   "metadata": {},
   "outputs": [
    {
     "data": {
      "text/plain": [
       "(101230332, 10)"
      ]
     },
     "execution_count": 44,
     "metadata": {},
     "output_type": "execute_result"
    }
   ],
   "source": [
    "import pandas as pd\n",
    "\n",
    "data = pd.read_csv('train.csv')\n",
    "\n",
    "data.head()\n",
    "data.shape"
   ]
  },
  {
   "cell_type": "code",
   "execution_count": 47,
   "metadata": {},
   "outputs": [
    {
     "name": "stdout",
     "output_type": "stream",
     "text": [
      "0\n",
      "(10000000, 10)\n",
      "1\n",
      "(9999999, 10)\n",
      "2\n",
      "(9999999, 10)\n",
      "3\n",
      "(9999999, 10)\n",
      "4\n",
      "(9999999, 10)\n",
      "5\n",
      "(9999999, 10)\n",
      "6\n",
      "(9999999, 10)\n",
      "7\n",
      "(9999999, 10)\n",
      "8\n",
      "(9999999, 10)\n",
      "9\n",
      "(9999999, 10)\n",
      "10\n",
      "(1230331, 10)\n"
     ]
    }
   ],
   "source": [
    "for i_index in range(11):\n",
    "    print(i_index)\n",
    "    if i_index==0:\n",
    "        x_s=0\n",
    "        x_e=(i_index+1)*10000000\n",
    "    else:\n",
    "        x_s=i_index*10000000+1\n",
    "        \n",
    "        if i_index==10:\n",
    "            x_e=101230332\n",
    "        else:\n",
    "            x_e=(i_index+1)*10000000\n",
    "    #print(x_s)\n",
    "    #print(x_e)\n",
    "    data_temp=data.iloc[x_s:x_e,0:10]\n",
    "    print(data_temp.shape)\n",
    "    data_temp.to_csv(r'D:\\workspace\\K_C_Riiid\\dataset\\train_'+str(i_index)+'.csv')\n"
   ]
  },
  {
   "cell_type": "code",
   "execution_count": null,
   "metadata": {},
   "outputs": [],
   "source": [
    "\n"
   ]
  }
 ],
 "metadata": {
  "kernelspec": {
   "display_name": "Python [conda env:.conda-ML_c2]",
   "language": "python",
   "name": "conda-env-.conda-ML_c2-py"
  },
  "language_info": {
   "codemirror_mode": {
    "name": "ipython",
    "version": 3
   },
   "file_extension": ".py",
   "mimetype": "text/x-python",
   "name": "python",
   "nbconvert_exporter": "python",
   "pygments_lexer": "ipython3",
   "version": "3.7.7"
  }
 },
 "nbformat": 4,
 "nbformat_minor": 2
}
